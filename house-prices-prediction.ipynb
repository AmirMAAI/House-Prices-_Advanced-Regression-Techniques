{
 "cells": [
  {
   "cell_type": "code",
   "execution_count": 1,
   "id": "e28c9074",
   "metadata": {
    "_cell_guid": "b1076dfc-b9ad-4769-8c92-a6c4dae69d19",
    "_uuid": "8f2839f25d086af736a60e9eeb907d3b93b6e0e5",
    "execution": {
     "iopub.execute_input": "2022-04-19T17:11:32.300575Z",
     "iopub.status.busy": "2022-04-19T17:11:32.300135Z",
     "iopub.status.idle": "2022-04-19T17:11:32.311453Z",
     "shell.execute_reply": "2022-04-19T17:11:32.310473Z"
    },
    "papermill": {
     "duration": 0.070667,
     "end_time": "2022-04-19T17:11:32.314123",
     "exception": false,
     "start_time": "2022-04-19T17:11:32.243456",
     "status": "completed"
    },
    "tags": []
   },
   "outputs": [
    {
     "name": "stdout",
     "output_type": "stream",
     "text": [
      "/kaggle/input/house-prices-advanced-regression-techniques/sample_submission.csv\n",
      "/kaggle/input/house-prices-advanced-regression-techniques/data_description.txt\n",
      "/kaggle/input/house-prices-advanced-regression-techniques/train.csv\n",
      "/kaggle/input/house-prices-advanced-regression-techniques/test.csv\n"
     ]
    }
   ],
   "source": [
    "# This Python 3 environment comes with many helpful analytics libraries installed\n",
    "# It is defined by the kaggle/python Docker image: https://github.com/kaggle/docker-python\n",
    "# For example, here's several helpful packages to load\n",
    "\n",
    "import numpy as np # linear algebra\n",
    "import pandas as pd # data processing, CSV file I/O (e.g. pd.read_csv)\n",
    "\n",
    "# Input data files are available in the read-only \"../input/\" directory\n",
    "# For example, running this (by clicking run or pressing Shift+Enter) will list all files under the input directory\n",
    "\n",
    "import os\n",
    "for dirname, _, filenames in os.walk('/kaggle/input'):\n",
    "    for filename in filenames:\n",
    "        print(os.path.join(dirname, filename))\n",
    "\n",
    "# You can write up to 20GB to the current directory (/kaggle/working/) that gets preserved as output when you create a version using \"Save & Run All\" \n",
    "# You can also write temporary files to /kaggle/temp/, but they won't be saved outside of the current session"
   ]
  },
  {
   "cell_type": "markdown",
   "id": "34e3f66f",
   "metadata": {
    "papermill": {
     "duration": 0.035784,
     "end_time": "2022-04-19T17:11:32.386381",
     "exception": false,
     "start_time": "2022-04-19T17:11:32.350597",
     "status": "completed"
    },
    "tags": []
   },
   "source": [
    "<a id=\"1\"></a> <br>\n",
    "# 1. Import Necessary Libraries"
   ]
  },
  {
   "cell_type": "code",
   "execution_count": 2,
   "id": "bbf741cd",
   "metadata": {
    "execution": {
     "iopub.execute_input": "2022-04-19T17:11:32.461137Z",
     "iopub.status.busy": "2022-04-19T17:11:32.460846Z",
     "iopub.status.idle": "2022-04-19T17:11:34.152724Z",
     "shell.execute_reply": "2022-04-19T17:11:34.151336Z"
    },
    "papermill": {
     "duration": 1.731308,
     "end_time": "2022-04-19T17:11:34.154987",
     "exception": false,
     "start_time": "2022-04-19T17:11:32.423679",
     "status": "completed"
    },
    "tags": []
   },
   "outputs": [],
   "source": [
    "import pandas as pd\n",
    "import numpy as np\n",
    "import matplotlib.pyplot as plt\n",
    "import seaborn as sns\n",
    "import warnings\n",
    "warnings.filterwarnings(\"ignore\")\n",
    "from sklearn.preprocessing import OneHotEncoder, LabelEncoder\n",
    "from sklearn.model_selection import train_test_split\n",
    "from sklearn.linear_model import LinearRegression\n",
    "from sklearn.linear_model import Ridge\n",
    "from sklearn.linear_model import Lasso\n",
    "from sklearn.pipeline import Pipeline"
   ]
  },
  {
   "cell_type": "markdown",
   "id": "42262a09",
   "metadata": {
    "papermill": {
     "duration": 0.036863,
     "end_time": "2022-04-19T17:11:34.228050",
     "exception": false,
     "start_time": "2022-04-19T17:11:34.191187",
     "status": "completed"
    },
    "tags": []
   },
   "source": [
    "<a id=\"1\"></a> <br>\n",
    "# 2. Import Dataset"
   ]
  },
  {
   "cell_type": "code",
   "execution_count": 3,
   "id": "cc296ce7",
   "metadata": {
    "execution": {
     "iopub.execute_input": "2022-04-19T17:11:34.302224Z",
     "iopub.status.busy": "2022-04-19T17:11:34.301930Z",
     "iopub.status.idle": "2022-04-19T17:11:34.398108Z",
     "shell.execute_reply": "2022-04-19T17:11:34.396633Z"
    },
    "papermill": {
     "duration": 0.135695,
     "end_time": "2022-04-19T17:11:34.400321",
     "exception": false,
     "start_time": "2022-04-19T17:11:34.264626",
     "status": "completed"
    },
    "tags": []
   },
   "outputs": [],
   "source": [
    "df_train = pd.read_csv('/kaggle/input/house-prices-advanced-regression-techniques/train.csv')\n",
    "df_test = pd.read_csv('/kaggle/input/house-prices-advanced-regression-techniques/test.csv')\n",
    "df_data = pd.concat([df_train,df_test]).reset_index(drop=True)"
   ]
  },
  {
   "cell_type": "code",
   "execution_count": 4,
   "id": "077bee64",
   "metadata": {
    "execution": {
     "iopub.execute_input": "2022-04-19T17:11:34.474147Z",
     "iopub.status.busy": "2022-04-19T17:11:34.473860Z",
     "iopub.status.idle": "2022-04-19T17:11:34.516670Z",
     "shell.execute_reply": "2022-04-19T17:11:34.515552Z"
    },
    "papermill": {
     "duration": 0.082614,
     "end_time": "2022-04-19T17:11:34.519288",
     "exception": false,
     "start_time": "2022-04-19T17:11:34.436674",
     "status": "completed"
    },
    "tags": []
   },
   "outputs": [
    {
     "data": {
      "text/html": [
       "<div>\n",
       "<style scoped>\n",
       "    .dataframe tbody tr th:only-of-type {\n",
       "        vertical-align: middle;\n",
       "    }\n",
       "\n",
       "    .dataframe tbody tr th {\n",
       "        vertical-align: top;\n",
       "    }\n",
       "\n",
       "    .dataframe thead th {\n",
       "        text-align: right;\n",
       "    }\n",
       "</style>\n",
       "<table border=\"1\" class=\"dataframe\">\n",
       "  <thead>\n",
       "    <tr style=\"text-align: right;\">\n",
       "      <th></th>\n",
       "      <th>Id</th>\n",
       "      <th>MSSubClass</th>\n",
       "      <th>MSZoning</th>\n",
       "      <th>LotFrontage</th>\n",
       "      <th>LotArea</th>\n",
       "      <th>Street</th>\n",
       "      <th>Alley</th>\n",
       "      <th>LotShape</th>\n",
       "      <th>LandContour</th>\n",
       "      <th>Utilities</th>\n",
       "      <th>...</th>\n",
       "      <th>PoolArea</th>\n",
       "      <th>PoolQC</th>\n",
       "      <th>Fence</th>\n",
       "      <th>MiscFeature</th>\n",
       "      <th>MiscVal</th>\n",
       "      <th>MoSold</th>\n",
       "      <th>YrSold</th>\n",
       "      <th>SaleType</th>\n",
       "      <th>SaleCondition</th>\n",
       "      <th>SalePrice</th>\n",
       "    </tr>\n",
       "  </thead>\n",
       "  <tbody>\n",
       "    <tr>\n",
       "      <th>0</th>\n",
       "      <td>1</td>\n",
       "      <td>60</td>\n",
       "      <td>RL</td>\n",
       "      <td>65.0</td>\n",
       "      <td>8450</td>\n",
       "      <td>Pave</td>\n",
       "      <td>NaN</td>\n",
       "      <td>Reg</td>\n",
       "      <td>Lvl</td>\n",
       "      <td>AllPub</td>\n",
       "      <td>...</td>\n",
       "      <td>0</td>\n",
       "      <td>NaN</td>\n",
       "      <td>NaN</td>\n",
       "      <td>NaN</td>\n",
       "      <td>0</td>\n",
       "      <td>2</td>\n",
       "      <td>2008</td>\n",
       "      <td>WD</td>\n",
       "      <td>Normal</td>\n",
       "      <td>208500.0</td>\n",
       "    </tr>\n",
       "    <tr>\n",
       "      <th>1</th>\n",
       "      <td>2</td>\n",
       "      <td>20</td>\n",
       "      <td>RL</td>\n",
       "      <td>80.0</td>\n",
       "      <td>9600</td>\n",
       "      <td>Pave</td>\n",
       "      <td>NaN</td>\n",
       "      <td>Reg</td>\n",
       "      <td>Lvl</td>\n",
       "      <td>AllPub</td>\n",
       "      <td>...</td>\n",
       "      <td>0</td>\n",
       "      <td>NaN</td>\n",
       "      <td>NaN</td>\n",
       "      <td>NaN</td>\n",
       "      <td>0</td>\n",
       "      <td>5</td>\n",
       "      <td>2007</td>\n",
       "      <td>WD</td>\n",
       "      <td>Normal</td>\n",
       "      <td>181500.0</td>\n",
       "    </tr>\n",
       "    <tr>\n",
       "      <th>2</th>\n",
       "      <td>3</td>\n",
       "      <td>60</td>\n",
       "      <td>RL</td>\n",
       "      <td>68.0</td>\n",
       "      <td>11250</td>\n",
       "      <td>Pave</td>\n",
       "      <td>NaN</td>\n",
       "      <td>IR1</td>\n",
       "      <td>Lvl</td>\n",
       "      <td>AllPub</td>\n",
       "      <td>...</td>\n",
       "      <td>0</td>\n",
       "      <td>NaN</td>\n",
       "      <td>NaN</td>\n",
       "      <td>NaN</td>\n",
       "      <td>0</td>\n",
       "      <td>9</td>\n",
       "      <td>2008</td>\n",
       "      <td>WD</td>\n",
       "      <td>Normal</td>\n",
       "      <td>223500.0</td>\n",
       "    </tr>\n",
       "    <tr>\n",
       "      <th>3</th>\n",
       "      <td>4</td>\n",
       "      <td>70</td>\n",
       "      <td>RL</td>\n",
       "      <td>60.0</td>\n",
       "      <td>9550</td>\n",
       "      <td>Pave</td>\n",
       "      <td>NaN</td>\n",
       "      <td>IR1</td>\n",
       "      <td>Lvl</td>\n",
       "      <td>AllPub</td>\n",
       "      <td>...</td>\n",
       "      <td>0</td>\n",
       "      <td>NaN</td>\n",
       "      <td>NaN</td>\n",
       "      <td>NaN</td>\n",
       "      <td>0</td>\n",
       "      <td>2</td>\n",
       "      <td>2006</td>\n",
       "      <td>WD</td>\n",
       "      <td>Abnorml</td>\n",
       "      <td>140000.0</td>\n",
       "    </tr>\n",
       "    <tr>\n",
       "      <th>4</th>\n",
       "      <td>5</td>\n",
       "      <td>60</td>\n",
       "      <td>RL</td>\n",
       "      <td>84.0</td>\n",
       "      <td>14260</td>\n",
       "      <td>Pave</td>\n",
       "      <td>NaN</td>\n",
       "      <td>IR1</td>\n",
       "      <td>Lvl</td>\n",
       "      <td>AllPub</td>\n",
       "      <td>...</td>\n",
       "      <td>0</td>\n",
       "      <td>NaN</td>\n",
       "      <td>NaN</td>\n",
       "      <td>NaN</td>\n",
       "      <td>0</td>\n",
       "      <td>12</td>\n",
       "      <td>2008</td>\n",
       "      <td>WD</td>\n",
       "      <td>Normal</td>\n",
       "      <td>250000.0</td>\n",
       "    </tr>\n",
       "    <tr>\n",
       "      <th>5</th>\n",
       "      <td>6</td>\n",
       "      <td>50</td>\n",
       "      <td>RL</td>\n",
       "      <td>85.0</td>\n",
       "      <td>14115</td>\n",
       "      <td>Pave</td>\n",
       "      <td>NaN</td>\n",
       "      <td>IR1</td>\n",
       "      <td>Lvl</td>\n",
       "      <td>AllPub</td>\n",
       "      <td>...</td>\n",
       "      <td>0</td>\n",
       "      <td>NaN</td>\n",
       "      <td>MnPrv</td>\n",
       "      <td>Shed</td>\n",
       "      <td>700</td>\n",
       "      <td>10</td>\n",
       "      <td>2009</td>\n",
       "      <td>WD</td>\n",
       "      <td>Normal</td>\n",
       "      <td>143000.0</td>\n",
       "    </tr>\n",
       "    <tr>\n",
       "      <th>6</th>\n",
       "      <td>7</td>\n",
       "      <td>20</td>\n",
       "      <td>RL</td>\n",
       "      <td>75.0</td>\n",
       "      <td>10084</td>\n",
       "      <td>Pave</td>\n",
       "      <td>NaN</td>\n",
       "      <td>Reg</td>\n",
       "      <td>Lvl</td>\n",
       "      <td>AllPub</td>\n",
       "      <td>...</td>\n",
       "      <td>0</td>\n",
       "      <td>NaN</td>\n",
       "      <td>NaN</td>\n",
       "      <td>NaN</td>\n",
       "      <td>0</td>\n",
       "      <td>8</td>\n",
       "      <td>2007</td>\n",
       "      <td>WD</td>\n",
       "      <td>Normal</td>\n",
       "      <td>307000.0</td>\n",
       "    </tr>\n",
       "    <tr>\n",
       "      <th>7</th>\n",
       "      <td>8</td>\n",
       "      <td>60</td>\n",
       "      <td>RL</td>\n",
       "      <td>NaN</td>\n",
       "      <td>10382</td>\n",
       "      <td>Pave</td>\n",
       "      <td>NaN</td>\n",
       "      <td>IR1</td>\n",
       "      <td>Lvl</td>\n",
       "      <td>AllPub</td>\n",
       "      <td>...</td>\n",
       "      <td>0</td>\n",
       "      <td>NaN</td>\n",
       "      <td>NaN</td>\n",
       "      <td>Shed</td>\n",
       "      <td>350</td>\n",
       "      <td>11</td>\n",
       "      <td>2009</td>\n",
       "      <td>WD</td>\n",
       "      <td>Normal</td>\n",
       "      <td>200000.0</td>\n",
       "    </tr>\n",
       "    <tr>\n",
       "      <th>8</th>\n",
       "      <td>9</td>\n",
       "      <td>50</td>\n",
       "      <td>RM</td>\n",
       "      <td>51.0</td>\n",
       "      <td>6120</td>\n",
       "      <td>Pave</td>\n",
       "      <td>NaN</td>\n",
       "      <td>Reg</td>\n",
       "      <td>Lvl</td>\n",
       "      <td>AllPub</td>\n",
       "      <td>...</td>\n",
       "      <td>0</td>\n",
       "      <td>NaN</td>\n",
       "      <td>NaN</td>\n",
       "      <td>NaN</td>\n",
       "      <td>0</td>\n",
       "      <td>4</td>\n",
       "      <td>2008</td>\n",
       "      <td>WD</td>\n",
       "      <td>Abnorml</td>\n",
       "      <td>129900.0</td>\n",
       "    </tr>\n",
       "    <tr>\n",
       "      <th>9</th>\n",
       "      <td>10</td>\n",
       "      <td>190</td>\n",
       "      <td>RL</td>\n",
       "      <td>50.0</td>\n",
       "      <td>7420</td>\n",
       "      <td>Pave</td>\n",
       "      <td>NaN</td>\n",
       "      <td>Reg</td>\n",
       "      <td>Lvl</td>\n",
       "      <td>AllPub</td>\n",
       "      <td>...</td>\n",
       "      <td>0</td>\n",
       "      <td>NaN</td>\n",
       "      <td>NaN</td>\n",
       "      <td>NaN</td>\n",
       "      <td>0</td>\n",
       "      <td>1</td>\n",
       "      <td>2008</td>\n",
       "      <td>WD</td>\n",
       "      <td>Normal</td>\n",
       "      <td>118000.0</td>\n",
       "    </tr>\n",
       "  </tbody>\n",
       "</table>\n",
       "<p>10 rows × 81 columns</p>\n",
       "</div>"
      ],
      "text/plain": [
       "   Id  MSSubClass MSZoning  LotFrontage  LotArea Street Alley LotShape  \\\n",
       "0   1          60       RL         65.0     8450   Pave   NaN      Reg   \n",
       "1   2          20       RL         80.0     9600   Pave   NaN      Reg   \n",
       "2   3          60       RL         68.0    11250   Pave   NaN      IR1   \n",
       "3   4          70       RL         60.0     9550   Pave   NaN      IR1   \n",
       "4   5          60       RL         84.0    14260   Pave   NaN      IR1   \n",
       "5   6          50       RL         85.0    14115   Pave   NaN      IR1   \n",
       "6   7          20       RL         75.0    10084   Pave   NaN      Reg   \n",
       "7   8          60       RL          NaN    10382   Pave   NaN      IR1   \n",
       "8   9          50       RM         51.0     6120   Pave   NaN      Reg   \n",
       "9  10         190       RL         50.0     7420   Pave   NaN      Reg   \n",
       "\n",
       "  LandContour Utilities  ... PoolArea PoolQC  Fence MiscFeature MiscVal  \\\n",
       "0         Lvl    AllPub  ...        0    NaN    NaN         NaN       0   \n",
       "1         Lvl    AllPub  ...        0    NaN    NaN         NaN       0   \n",
       "2         Lvl    AllPub  ...        0    NaN    NaN         NaN       0   \n",
       "3         Lvl    AllPub  ...        0    NaN    NaN         NaN       0   \n",
       "4         Lvl    AllPub  ...        0    NaN    NaN         NaN       0   \n",
       "5         Lvl    AllPub  ...        0    NaN  MnPrv        Shed     700   \n",
       "6         Lvl    AllPub  ...        0    NaN    NaN         NaN       0   \n",
       "7         Lvl    AllPub  ...        0    NaN    NaN        Shed     350   \n",
       "8         Lvl    AllPub  ...        0    NaN    NaN         NaN       0   \n",
       "9         Lvl    AllPub  ...        0    NaN    NaN         NaN       0   \n",
       "\n",
       "  MoSold YrSold  SaleType  SaleCondition  SalePrice  \n",
       "0      2   2008        WD         Normal   208500.0  \n",
       "1      5   2007        WD         Normal   181500.0  \n",
       "2      9   2008        WD         Normal   223500.0  \n",
       "3      2   2006        WD        Abnorml   140000.0  \n",
       "4     12   2008        WD         Normal   250000.0  \n",
       "5     10   2009        WD         Normal   143000.0  \n",
       "6      8   2007        WD         Normal   307000.0  \n",
       "7     11   2009        WD         Normal   200000.0  \n",
       "8      4   2008        WD        Abnorml   129900.0  \n",
       "9      1   2008        WD         Normal   118000.0  \n",
       "\n",
       "[10 rows x 81 columns]"
      ]
     },
     "execution_count": 4,
     "metadata": {},
     "output_type": "execute_result"
    }
   ],
   "source": [
    "df_data.head(10)"
   ]
  },
  {
   "cell_type": "code",
   "execution_count": 5,
   "id": "3010a40c",
   "metadata": {
    "execution": {
     "iopub.execute_input": "2022-04-19T17:11:34.633180Z",
     "iopub.status.busy": "2022-04-19T17:11:34.632776Z",
     "iopub.status.idle": "2022-04-19T17:11:34.638717Z",
     "shell.execute_reply": "2022-04-19T17:11:34.637782Z"
    },
    "papermill": {
     "duration": 0.064851,
     "end_time": "2022-04-19T17:11:34.641091",
     "exception": false,
     "start_time": "2022-04-19T17:11:34.576240",
     "status": "completed"
    },
    "tags": []
   },
   "outputs": [],
   "source": [
    "df_data.drop('SalePrice',axis=1, inplace=True)"
   ]
  },
  {
   "cell_type": "code",
   "execution_count": 6,
   "id": "5d2ab8ab",
   "metadata": {
    "execution": {
     "iopub.execute_input": "2022-04-19T17:11:34.754035Z",
     "iopub.status.busy": "2022-04-19T17:11:34.753781Z",
     "iopub.status.idle": "2022-04-19T17:11:34.797641Z",
     "shell.execute_reply": "2022-04-19T17:11:34.796534Z"
    },
    "papermill": {
     "duration": 0.103174,
     "end_time": "2022-04-19T17:11:34.800558",
     "exception": false,
     "start_time": "2022-04-19T17:11:34.697384",
     "status": "completed"
    },
    "tags": []
   },
   "outputs": [
    {
     "name": "stdout",
     "output_type": "stream",
     "text": [
      "<class 'pandas.core.frame.DataFrame'>\n",
      "RangeIndex: 2919 entries, 0 to 2918\n",
      "Data columns (total 80 columns):\n",
      " #   Column         Non-Null Count  Dtype  \n",
      "---  ------         --------------  -----  \n",
      " 0   Id             2919 non-null   int64  \n",
      " 1   MSSubClass     2919 non-null   int64  \n",
      " 2   MSZoning       2915 non-null   object \n",
      " 3   LotFrontage    2433 non-null   float64\n",
      " 4   LotArea        2919 non-null   int64  \n",
      " 5   Street         2919 non-null   object \n",
      " 6   Alley          198 non-null    object \n",
      " 7   LotShape       2919 non-null   object \n",
      " 8   LandContour    2919 non-null   object \n",
      " 9   Utilities      2917 non-null   object \n",
      " 10  LotConfig      2919 non-null   object \n",
      " 11  LandSlope      2919 non-null   object \n",
      " 12  Neighborhood   2919 non-null   object \n",
      " 13  Condition1     2919 non-null   object \n",
      " 14  Condition2     2919 non-null   object \n",
      " 15  BldgType       2919 non-null   object \n",
      " 16  HouseStyle     2919 non-null   object \n",
      " 17  OverallQual    2919 non-null   int64  \n",
      " 18  OverallCond    2919 non-null   int64  \n",
      " 19  YearBuilt      2919 non-null   int64  \n",
      " 20  YearRemodAdd   2919 non-null   int64  \n",
      " 21  RoofStyle      2919 non-null   object \n",
      " 22  RoofMatl       2919 non-null   object \n",
      " 23  Exterior1st    2918 non-null   object \n",
      " 24  Exterior2nd    2918 non-null   object \n",
      " 25  MasVnrType     2895 non-null   object \n",
      " 26  MasVnrArea     2896 non-null   float64\n",
      " 27  ExterQual      2919 non-null   object \n",
      " 28  ExterCond      2919 non-null   object \n",
      " 29  Foundation     2919 non-null   object \n",
      " 30  BsmtQual       2838 non-null   object \n",
      " 31  BsmtCond       2837 non-null   object \n",
      " 32  BsmtExposure   2837 non-null   object \n",
      " 33  BsmtFinType1   2840 non-null   object \n",
      " 34  BsmtFinSF1     2918 non-null   float64\n",
      " 35  BsmtFinType2   2839 non-null   object \n",
      " 36  BsmtFinSF2     2918 non-null   float64\n",
      " 37  BsmtUnfSF      2918 non-null   float64\n",
      " 38  TotalBsmtSF    2918 non-null   float64\n",
      " 39  Heating        2919 non-null   object \n",
      " 40  HeatingQC      2919 non-null   object \n",
      " 41  CentralAir     2919 non-null   object \n",
      " 42  Electrical     2918 non-null   object \n",
      " 43  1stFlrSF       2919 non-null   int64  \n",
      " 44  2ndFlrSF       2919 non-null   int64  \n",
      " 45  LowQualFinSF   2919 non-null   int64  \n",
      " 46  GrLivArea      2919 non-null   int64  \n",
      " 47  BsmtFullBath   2917 non-null   float64\n",
      " 48  BsmtHalfBath   2917 non-null   float64\n",
      " 49  FullBath       2919 non-null   int64  \n",
      " 50  HalfBath       2919 non-null   int64  \n",
      " 51  BedroomAbvGr   2919 non-null   int64  \n",
      " 52  KitchenAbvGr   2919 non-null   int64  \n",
      " 53  KitchenQual    2918 non-null   object \n",
      " 54  TotRmsAbvGrd   2919 non-null   int64  \n",
      " 55  Functional     2917 non-null   object \n",
      " 56  Fireplaces     2919 non-null   int64  \n",
      " 57  FireplaceQu    1499 non-null   object \n",
      " 58  GarageType     2762 non-null   object \n",
      " 59  GarageYrBlt    2760 non-null   float64\n",
      " 60  GarageFinish   2760 non-null   object \n",
      " 61  GarageCars     2918 non-null   float64\n",
      " 62  GarageArea     2918 non-null   float64\n",
      " 63  GarageQual     2760 non-null   object \n",
      " 64  GarageCond     2760 non-null   object \n",
      " 65  PavedDrive     2919 non-null   object \n",
      " 66  WoodDeckSF     2919 non-null   int64  \n",
      " 67  OpenPorchSF    2919 non-null   int64  \n",
      " 68  EnclosedPorch  2919 non-null   int64  \n",
      " 69  3SsnPorch      2919 non-null   int64  \n",
      " 70  ScreenPorch    2919 non-null   int64  \n",
      " 71  PoolArea       2919 non-null   int64  \n",
      " 72  PoolQC         10 non-null     object \n",
      " 73  Fence          571 non-null    object \n",
      " 74  MiscFeature    105 non-null    object \n",
      " 75  MiscVal        2919 non-null   int64  \n",
      " 76  MoSold         2919 non-null   int64  \n",
      " 77  YrSold         2919 non-null   int64  \n",
      " 78  SaleType       2918 non-null   object \n",
      " 79  SaleCondition  2919 non-null   object \n",
      "dtypes: float64(11), int64(26), object(43)\n",
      "memory usage: 1.8+ MB\n"
     ]
    }
   ],
   "source": [
    "df_data.info()"
   ]
  },
  {
   "cell_type": "markdown",
   "id": "16e4f268",
   "metadata": {
    "papermill": {
     "duration": 0.056103,
     "end_time": "2022-04-19T17:11:34.913390",
     "exception": false,
     "start_time": "2022-04-19T17:11:34.857287",
     "status": "completed"
    },
    "tags": []
   },
   "source": [
    "****From info(), we can see that we have null values in the data****"
   ]
  },
  {
   "cell_type": "code",
   "execution_count": 7,
   "id": "15cc9b04",
   "metadata": {
    "execution": {
     "iopub.execute_input": "2022-04-19T17:11:35.027969Z",
     "iopub.status.busy": "2022-04-19T17:11:35.027729Z",
     "iopub.status.idle": "2022-04-19T17:11:35.032662Z",
     "shell.execute_reply": "2022-04-19T17:11:35.032051Z"
    },
    "papermill": {
     "duration": 0.065332,
     "end_time": "2022-04-19T17:11:35.035275",
     "exception": false,
     "start_time": "2022-04-19T17:11:34.969943",
     "status": "completed"
    },
    "tags": []
   },
   "outputs": [
    {
     "data": {
      "text/plain": [
       "(2919, 80)"
      ]
     },
     "execution_count": 7,
     "metadata": {},
     "output_type": "execute_result"
    }
   ],
   "source": [
    "df_data.shape"
   ]
  },
  {
   "cell_type": "markdown",
   "id": "f18da1c3",
   "metadata": {
    "papermill": {
     "duration": 0.056842,
     "end_time": "2022-04-19T17:11:35.149163",
     "exception": false,
     "start_time": "2022-04-19T17:11:35.092321",
     "status": "completed"
    },
    "tags": []
   },
   "source": [
    "<a id=\"1\"></a> <br>\n",
    "# 3. Preprocessing"
   ]
  },
  {
   "cell_type": "markdown",
   "id": "b0c82814",
   "metadata": {
    "papermill": {
     "duration": 0.056247,
     "end_time": "2022-04-19T17:11:35.262702",
     "exception": false,
     "start_time": "2022-04-19T17:11:35.206455",
     "status": "completed"
    },
    "tags": []
   },
   "source": [
    "We will keep columns that have null values <= 5% and discard any column that has null values > 5%"
   ]
  },
  {
   "cell_type": "code",
   "execution_count": 8,
   "id": "769143f7",
   "metadata": {
    "execution": {
     "iopub.execute_input": "2022-04-19T17:11:35.379751Z",
     "iopub.status.busy": "2022-04-19T17:11:35.379370Z",
     "iopub.status.idle": "2022-04-19T17:11:35.384611Z",
     "shell.execute_reply": "2022-04-19T17:11:35.384061Z"
    },
    "papermill": {
     "duration": 0.068078,
     "end_time": "2022-04-19T17:11:35.388245",
     "exception": false,
     "start_time": "2022-04-19T17:11:35.320167",
     "status": "completed"
    },
    "tags": []
   },
   "outputs": [
    {
     "name": "stdout",
     "output_type": "stream",
     "text": [
      "Columns that have Null values Greater than  2774  will drop it\n"
     ]
    }
   ],
   "source": [
    "# drop nulls at specefic percentage\n",
    "percent = 5\n",
    "min_count_nan = len(df_data.index)-int((len(df_data.index)*percent)/100)\n",
    "print(\"Columns that have Null values Greater than \", min_count_nan,\" will drop it\")"
   ]
  },
  {
   "cell_type": "code",
   "execution_count": 9,
   "id": "3ecbc374",
   "metadata": {
    "execution": {
     "iopub.execute_input": "2022-04-19T17:11:35.508034Z",
     "iopub.status.busy": "2022-04-19T17:11:35.506656Z",
     "iopub.status.idle": "2022-04-19T17:11:35.551151Z",
     "shell.execute_reply": "2022-04-19T17:11:35.550604Z"
    },
    "papermill": {
     "duration": 0.105714,
     "end_time": "2022-04-19T17:11:35.553896",
     "exception": false,
     "start_time": "2022-04-19T17:11:35.448182",
     "status": "completed"
    },
    "tags": []
   },
   "outputs": [
    {
     "name": "stdout",
     "output_type": "stream",
     "text": [
      "<class 'pandas.core.frame.DataFrame'>\n",
      "RangeIndex: 2919 entries, 0 to 2918\n",
      "Data columns (total 69 columns):\n",
      " #   Column         Non-Null Count  Dtype  \n",
      "---  ------         --------------  -----  \n",
      " 0   Id             2919 non-null   int64  \n",
      " 1   MSSubClass     2919 non-null   int64  \n",
      " 2   MSZoning       2915 non-null   object \n",
      " 3   LotArea        2919 non-null   int64  \n",
      " 4   Street         2919 non-null   object \n",
      " 5   LotShape       2919 non-null   object \n",
      " 6   LandContour    2919 non-null   object \n",
      " 7   Utilities      2917 non-null   object \n",
      " 8   LotConfig      2919 non-null   object \n",
      " 9   LandSlope      2919 non-null   object \n",
      " 10  Neighborhood   2919 non-null   object \n",
      " 11  Condition1     2919 non-null   object \n",
      " 12  Condition2     2919 non-null   object \n",
      " 13  BldgType       2919 non-null   object \n",
      " 14  HouseStyle     2919 non-null   object \n",
      " 15  OverallQual    2919 non-null   int64  \n",
      " 16  OverallCond    2919 non-null   int64  \n",
      " 17  YearBuilt      2919 non-null   int64  \n",
      " 18  YearRemodAdd   2919 non-null   int64  \n",
      " 19  RoofStyle      2919 non-null   object \n",
      " 20  RoofMatl       2919 non-null   object \n",
      " 21  Exterior1st    2918 non-null   object \n",
      " 22  Exterior2nd    2918 non-null   object \n",
      " 23  MasVnrType     2895 non-null   object \n",
      " 24  MasVnrArea     2896 non-null   float64\n",
      " 25  ExterQual      2919 non-null   object \n",
      " 26  ExterCond      2919 non-null   object \n",
      " 27  Foundation     2919 non-null   object \n",
      " 28  BsmtQual       2838 non-null   object \n",
      " 29  BsmtCond       2837 non-null   object \n",
      " 30  BsmtExposure   2837 non-null   object \n",
      " 31  BsmtFinType1   2840 non-null   object \n",
      " 32  BsmtFinSF1     2918 non-null   float64\n",
      " 33  BsmtFinType2   2839 non-null   object \n",
      " 34  BsmtFinSF2     2918 non-null   float64\n",
      " 35  BsmtUnfSF      2918 non-null   float64\n",
      " 36  TotalBsmtSF    2918 non-null   float64\n",
      " 37  Heating        2919 non-null   object \n",
      " 38  HeatingQC      2919 non-null   object \n",
      " 39  CentralAir     2919 non-null   object \n",
      " 40  Electrical     2918 non-null   object \n",
      " 41  1stFlrSF       2919 non-null   int64  \n",
      " 42  2ndFlrSF       2919 non-null   int64  \n",
      " 43  LowQualFinSF   2919 non-null   int64  \n",
      " 44  GrLivArea      2919 non-null   int64  \n",
      " 45  BsmtFullBath   2917 non-null   float64\n",
      " 46  BsmtHalfBath   2917 non-null   float64\n",
      " 47  FullBath       2919 non-null   int64  \n",
      " 48  HalfBath       2919 non-null   int64  \n",
      " 49  BedroomAbvGr   2919 non-null   int64  \n",
      " 50  KitchenAbvGr   2919 non-null   int64  \n",
      " 51  KitchenQual    2918 non-null   object \n",
      " 52  TotRmsAbvGrd   2919 non-null   int64  \n",
      " 53  Functional     2917 non-null   object \n",
      " 54  Fireplaces     2919 non-null   int64  \n",
      " 55  GarageCars     2918 non-null   float64\n",
      " 56  GarageArea     2918 non-null   float64\n",
      " 57  PavedDrive     2919 non-null   object \n",
      " 58  WoodDeckSF     2919 non-null   int64  \n",
      " 59  OpenPorchSF    2919 non-null   int64  \n",
      " 60  EnclosedPorch  2919 non-null   int64  \n",
      " 61  3SsnPorch      2919 non-null   int64  \n",
      " 62  ScreenPorch    2919 non-null   int64  \n",
      " 63  PoolArea       2919 non-null   int64  \n",
      " 64  MiscVal        2919 non-null   int64  \n",
      " 65  MoSold         2919 non-null   int64  \n",
      " 66  YrSold         2919 non-null   int64  \n",
      " 67  SaleType       2918 non-null   object \n",
      " 68  SaleCondition  2919 non-null   object \n",
      "dtypes: float64(9), int64(26), object(34)\n",
      "memory usage: 1.5+ MB\n"
     ]
    }
   ],
   "source": [
    "df_data.dropna(axis=1,thresh=min_count_nan).info()"
   ]
  },
  {
   "cell_type": "code",
   "execution_count": 10,
   "id": "34a8541a",
   "metadata": {
    "execution": {
     "iopub.execute_input": "2022-04-19T17:11:35.673787Z",
     "iopub.status.busy": "2022-04-19T17:11:35.672620Z",
     "iopub.status.idle": "2022-04-19T17:11:35.720924Z",
     "shell.execute_reply": "2022-04-19T17:11:35.719777Z"
    },
    "papermill": {
     "duration": 0.109741,
     "end_time": "2022-04-19T17:11:35.723365",
     "exception": false,
     "start_time": "2022-04-19T17:11:35.613624",
     "status": "completed"
    },
    "tags": []
   },
   "outputs": [],
   "source": [
    "# from above we can know features that have missing > 5% and we will drop it \n",
    "# and features that have missing <= 5% to handle all of them\n",
    "\n",
    "drop_col = []\n",
    "hold_col = []\n",
    "\n",
    "# loop to check percent in each columns\n",
    "for col in df_data.columns:\n",
    "    if df_data[col].isnull().sum() > len(df_data.index)-min_count_nan:\n",
    "        drop_col.append(col)\n",
    "    elif (df_data[col].isnull().sum() <= len(df_data.index)-min_count_nan) & (df_data[col].isnull().sum()!=0):\n",
    "        hold_col.append(col)\n",
    "        "
   ]
  },
  {
   "cell_type": "code",
   "execution_count": 11,
   "id": "6f1bf024",
   "metadata": {
    "execution": {
     "iopub.execute_input": "2022-04-19T17:11:35.842062Z",
     "iopub.status.busy": "2022-04-19T17:11:35.841797Z",
     "iopub.status.idle": "2022-04-19T17:11:35.849191Z",
     "shell.execute_reply": "2022-04-19T17:11:35.848004Z"
    },
    "papermill": {
     "duration": 0.07033,
     "end_time": "2022-04-19T17:11:35.851718",
     "exception": false,
     "start_time": "2022-04-19T17:11:35.781388",
     "status": "completed"
    },
    "tags": []
   },
   "outputs": [
    {
     "name": "stdout",
     "output_type": "stream",
     "text": [
      "We have  23 features have small missing values in it. These columns are :\n",
      "\n",
      " ['MSZoning', 'Utilities', 'Exterior1st', 'Exterior2nd', 'MasVnrType', 'MasVnrArea', 'BsmtQual', 'BsmtCond', 'BsmtExposure', 'BsmtFinType1', 'BsmtFinSF1', 'BsmtFinType2', 'BsmtFinSF2', 'BsmtUnfSF', 'TotalBsmtSF', 'Electrical', 'BsmtFullBath', 'BsmtHalfBath', 'KitchenQual', 'Functional', 'GarageCars', 'GarageArea', 'SaleType']\n",
      "\n",
      " ------------------------------------------------------------ \n",
      "\n",
      "We have  11 features have alot of missing values in it. These columns are :\n",
      "\n",
      " ['LotFrontage', 'Alley', 'FireplaceQu', 'GarageType', 'GarageYrBlt', 'GarageFinish', 'GarageQual', 'GarageCond', 'PoolQC', 'Fence', 'MiscFeature']\n"
     ]
    }
   ],
   "source": [
    "print(\"We have \",len(hold_col),\"features have small missing values in it. These columns are :\\n\\n\", hold_col)\n",
    "print('\\n','--'*30,'\\n')\n",
    "print(\"We have \",len(drop_col),\"features have alot of missing values in it. These columns are :\\n\\n\",drop_col)"
   ]
  },
  {
   "cell_type": "code",
   "execution_count": 12,
   "id": "5538199c",
   "metadata": {
    "execution": {
     "iopub.execute_input": "2022-04-19T17:11:35.972208Z",
     "iopub.status.busy": "2022-04-19T17:11:35.971483Z",
     "iopub.status.idle": "2022-04-19T17:11:35.976382Z",
     "shell.execute_reply": "2022-04-19T17:11:35.975861Z"
    },
    "papermill": {
     "duration": 0.06725,
     "end_time": "2022-04-19T17:11:35.978125",
     "exception": false,
     "start_time": "2022-04-19T17:11:35.910875",
     "status": "completed"
    },
    "tags": []
   },
   "outputs": [
    {
     "data": {
      "text/plain": [
       "(2919, 80)"
      ]
     },
     "execution_count": 12,
     "metadata": {},
     "output_type": "execute_result"
    }
   ],
   "source": [
    "df_data.shape"
   ]
  },
  {
   "cell_type": "code",
   "execution_count": 13,
   "id": "f50d0caa",
   "metadata": {
    "execution": {
     "iopub.execute_input": "2022-04-19T17:11:36.098380Z",
     "iopub.status.busy": "2022-04-19T17:11:36.097851Z",
     "iopub.status.idle": "2022-04-19T17:11:36.107641Z",
     "shell.execute_reply": "2022-04-19T17:11:36.106310Z"
    },
    "papermill": {
     "duration": 0.073169,
     "end_time": "2022-04-19T17:11:36.110096",
     "exception": false,
     "start_time": "2022-04-19T17:11:36.036927",
     "status": "completed"
    },
    "tags": []
   },
   "outputs": [
    {
     "data": {
      "text/plain": [
       "(2919, 69)"
      ]
     },
     "execution_count": 13,
     "metadata": {},
     "output_type": "execute_result"
    }
   ],
   "source": [
    "# Drop features that have missing ratio > 5%\n",
    "df_data.drop(drop_col,axis=1,inplace=True)\n",
    "df_data.shape"
   ]
  },
  {
   "cell_type": "code",
   "execution_count": 14,
   "id": "a8a25d1a",
   "metadata": {
    "execution": {
     "iopub.execute_input": "2022-04-19T17:11:36.235071Z",
     "iopub.status.busy": "2022-04-19T17:11:36.234588Z",
     "iopub.status.idle": "2022-04-19T17:11:40.197735Z",
     "shell.execute_reply": "2022-04-19T17:11:40.196394Z"
    },
    "papermill": {
     "duration": 4.029631,
     "end_time": "2022-04-19T17:11:40.200736",
     "exception": false,
     "start_time": "2022-04-19T17:11:36.171105",
     "status": "completed"
    },
    "tags": []
   },
   "outputs": [
    {
     "data": {
      "image/png": "[encoded data removed]",
      "text/plain": [
       "<Figure size 1440x3600 with 23 Axes>"
      ]
     },
     "metadata": {
      "needs_background": "light"
     },
     "output_type": "display_data"
    }
   ],
   "source": [
    "n_col=2\n",
    "n_row = int((len(hold_col)/n_col)+1)\n",
    "fig=plt.figure(figsize=(20,50))\n",
    "# Histograms of feature columns that we will impute\n",
    "for i,col in enumerate(hold_col):\n",
    "    ax=fig.add_subplot(n_row,n_col,i+1)\n",
    "    df_data[col].hist(color='green')\n",
    "    ax.set_title(col)\n",
    "fig.tight_layout()  # Improves appearance a bit\n",
    "plt.show()    "
   ]
  },
  {
   "cell_type": "code",
   "execution_count": 15,
   "id": "8438ade4",
   "metadata": {
    "execution": {
     "iopub.execute_input": "2022-04-19T17:11:40.333682Z",
     "iopub.status.busy": "2022-04-19T17:11:40.333374Z",
     "iopub.status.idle": "2022-04-19T17:11:40.365393Z",
     "shell.execute_reply": "2022-04-19T17:11:40.364653Z"
    },
    "papermill": {
     "duration": 0.102461,
     "end_time": "2022-04-19T17:11:40.367359",
     "exception": false,
     "start_time": "2022-04-19T17:11:40.264898",
     "status": "completed"
    },
    "tags": []
   },
   "outputs": [],
   "source": [
    "for col in hold_col:\n",
    "    if df_data[col].dtype == 'object':\n",
    "        df_data[col].fillna(df_data[col].mode()[0],inplace=True)\n",
    "    else:\n",
    "        df_data[col].fillna(df_data[col].mean(),inplace=True)"
   ]
  },
  {
   "cell_type": "code",
   "execution_count": 16,
   "id": "31b4f945",
   "metadata": {
    "execution": {
     "iopub.execute_input": "2022-04-19T17:11:40.454723Z",
     "iopub.status.busy": "2022-04-19T17:11:40.453273Z",
     "iopub.status.idle": "2022-04-19T17:11:40.479171Z",
     "shell.execute_reply": "2022-04-19T17:11:40.477476Z"
    },
    "papermill": {
     "duration": 0.072393,
     "end_time": "2022-04-19T17:11:40.481904",
     "exception": false,
     "start_time": "2022-04-19T17:11:40.409511",
     "status": "completed"
    },
    "tags": []
   },
   "outputs": [
    {
     "data": {
      "text/plain": [
       "0"
      ]
     },
     "execution_count": 16,
     "metadata": {},
     "output_type": "execute_result"
    }
   ],
   "source": [
    "mising_values = [col for col in df_data.columns if df_data[col].isnull().any()]\n",
    "len(mising_values)\n",
    "# equal 0 means there is no missing values in the data :)"
   ]
  },
  {
   "cell_type": "markdown",
   "id": "4dd75fdf",
   "metadata": {
    "papermill": {
     "duration": 0.065365,
     "end_time": "2022-04-19T17:11:40.611511",
     "exception": false,
     "start_time": "2022-04-19T17:11:40.546146",
     "status": "completed"
    },
    "tags": []
   },
   "source": [
    "<a id=\"1\"></a> <br>\n",
    "# 3. Feature Transformation"
   ]
  },
  {
   "cell_type": "code",
   "execution_count": 17,
   "id": "1566de55",
   "metadata": {
    "execution": {
     "iopub.execute_input": "2022-04-19T17:11:40.740179Z",
     "iopub.status.busy": "2022-04-19T17:11:40.739299Z",
     "iopub.status.idle": "2022-04-19T17:11:40.754579Z",
     "shell.execute_reply": "2022-04-19T17:11:40.753983Z"
    },
    "papermill": {
     "duration": 0.082264,
     "end_time": "2022-04-19T17:11:40.757048",
     "exception": false,
     "start_time": "2022-04-19T17:11:40.674784",
     "status": "completed"
    },
    "tags": []
   },
   "outputs": [
    {
     "name": "stdout",
     "output_type": "stream",
     "text": [
      "<class 'pandas.core.frame.DataFrame'>\n",
      "RangeIndex: 2919 entries, 0 to 2918\n",
      "Data columns (total 69 columns):\n",
      " #   Column         Non-Null Count  Dtype  \n",
      "---  ------         --------------  -----  \n",
      " 0   Id             2919 non-null   int64  \n",
      " 1   MSSubClass     2919 non-null   int64  \n",
      " 2   MSZoning       2919 non-null   object \n",
      " 3   LotArea        2919 non-null   int64  \n",
      " 4   Street         2919 non-null   object \n",
      " 5   LotShape       2919 non-null   object \n",
      " 6   LandContour    2919 non-null   object \n",
      " 7   Utilities      2919 non-null   object \n",
      " 8   LotConfig      2919 non-null   object \n",
      " 9   LandSlope      2919 non-null   object \n",
      " 10  Neighborhood   2919 non-null   object \n",
      " 11  Condition1     2919 non-null   object \n",
      " 12  Condition2     2919 non-null   object \n",
      " 13  BldgType       2919 non-null   object \n",
      " 14  HouseStyle     2919 non-null   object \n",
      " 15  OverallQual    2919 non-null   int64  \n",
      " 16  OverallCond    2919 non-null   int64  \n",
      " 17  YearBuilt      2919 non-null   int64  \n",
      " 18  YearRemodAdd   2919 non-null   int64  \n",
      " 19  RoofStyle      2919 non-null   object \n",
      " 20  RoofMatl       2919 non-null   object \n",
      " 21  Exterior1st    2919 non-null   object \n",
      " 22  Exterior2nd    2919 non-null   object \n",
      " 23  MasVnrType     2919 non-null   object \n",
      " 24  MasVnrArea     2919 non-null   float64\n",
      " 25  ExterQual      2919 non-null   object \n",
      " 26  ExterCond      2919 non-null   object \n",
      " 27  Foundation     2919 non-null   object \n",
      " 28  BsmtQual       2919 non-null   object \n",
      " 29  BsmtCond       2919 non-null   object \n",
      " 30  BsmtExposure   2919 non-null   object \n",
      " 31  BsmtFinType1   2919 non-null   object \n",
      " 32  BsmtFinSF1     2919 non-null   float64\n",
      " 33  BsmtFinType2   2919 non-null   object \n",
      " 34  BsmtFinSF2     2919 non-null   float64\n",
      " 35  BsmtUnfSF      2919 non-null   float64\n",
      " 36  TotalBsmtSF    2919 non-null   float64\n",
      " 37  Heating        2919 non-null   object \n",
      " 38  HeatingQC      2919 non-null   object \n",
      " 39  CentralAir     2919 non-null   object \n",
      " 40  Electrical     2919 non-null   object \n",
      " 41  1stFlrSF       2919 non-null   int64  \n",
      " 42  2ndFlrSF       2919 non-null   int64  \n",
      " 43  LowQualFinSF   2919 non-null   int64  \n",
      " 44  GrLivArea      2919 non-null   int64  \n",
      " 45  BsmtFullBath   2919 non-null   float64\n",
      " 46  BsmtHalfBath   2919 non-null   float64\n",
      " 47  FullBath       2919 non-null   int64  \n",
      " 48  HalfBath       2919 non-null   int64  \n",
      " 49  BedroomAbvGr   2919 non-null   int64  \n",
      " 50  KitchenAbvGr   2919 non-null   int64  \n",
      " 51  KitchenQual    2919 non-null   object \n",
      " 52  TotRmsAbvGrd   2919 non-null   int64  \n",
      " 53  Functional     2919 non-null   object \n",
      " 54  Fireplaces     2919 non-null   int64  \n",
      " 55  GarageCars     2919 non-null   float64\n",
      " 56  GarageArea     2919 non-null   float64\n",
      " 57  PavedDrive     2919 non-null   object \n",
      " 58  WoodDeckSF     2919 non-null   int64  \n",
      " 59  OpenPorchSF    2919 non-null   int64  \n",
      " 60  EnclosedPorch  2919 non-null   int64  \n",
      " 61  3SsnPorch      2919 non-null   int64  \n",
      " 62  ScreenPorch    2919 non-null   int64  \n",
      " 63  PoolArea       2919 non-null   int64  \n",
      " 64  MiscVal        2919 non-null   int64  \n",
      " 65  MoSold         2919 non-null   int64  \n",
      " 66  YrSold         2919 non-null   int64  \n",
      " 67  SaleType       2919 non-null   object \n",
      " 68  SaleCondition  2919 non-null   object \n",
      "dtypes: float64(9), int64(26), object(34)\n",
      "memory usage: 1.5+ MB\n"
     ]
    }
   ],
   "source": [
    "df_data.info()"
   ]
  },
  {
   "cell_type": "markdown",
   "id": "74fbda56",
   "metadata": {
    "papermill": {
     "duration": 0.064185,
     "end_time": "2022-04-19T17:11:40.886433",
     "exception": false,
     "start_time": "2022-04-19T17:11:40.822248",
     "status": "completed"
    },
    "tags": []
   },
   "source": [
    "****Encoding categorical features****"
   ]
  },
  {
   "cell_type": "code",
   "execution_count": 18,
   "id": "812ecfcd",
   "metadata": {
    "execution": {
     "iopub.execute_input": "2022-04-19T17:11:41.017328Z",
     "iopub.status.busy": "2022-04-19T17:11:41.016868Z",
     "iopub.status.idle": "2022-04-19T17:11:41.021372Z",
     "shell.execute_reply": "2022-04-19T17:11:41.020640Z"
    },
    "papermill": {
     "duration": 0.072862,
     "end_time": "2022-04-19T17:11:41.023651",
     "exception": false,
     "start_time": "2022-04-19T17:11:40.950789",
     "status": "completed"
    },
    "tags": []
   },
   "outputs": [],
   "source": [
    "cat_featured = [col for col in df_data.columns if df_data[col].dtype =='object']"
   ]
  },
  {
   "cell_type": "code",
   "execution_count": 19,
   "id": "c6043c07",
   "metadata": {
    "execution": {
     "iopub.execute_input": "2022-04-19T17:11:41.153440Z",
     "iopub.status.busy": "2022-04-19T17:11:41.153026Z",
     "iopub.status.idle": "2022-04-19T17:11:41.158524Z",
     "shell.execute_reply": "2022-04-19T17:11:41.157857Z"
    },
    "papermill": {
     "duration": 0.072624,
     "end_time": "2022-04-19T17:11:41.160325",
     "exception": false,
     "start_time": "2022-04-19T17:11:41.087701",
     "status": "completed"
    },
    "tags": []
   },
   "outputs": [
    {
     "data": {
      "text/plain": [
       "['MSZoning',\n",
       " 'Street',\n",
       " 'LotShape',\n",
       " 'LandContour',\n",
       " 'Utilities',\n",
       " 'LotConfig',\n",
       " 'LandSlope',\n",
       " 'Neighborhood',\n",
       " 'Condition1',\n",
       " 'Condition2',\n",
       " 'BldgType',\n",
       " 'HouseStyle',\n",
       " 'RoofStyle',\n",
       " 'RoofMatl',\n",
       " 'Exterior1st',\n",
       " 'Exterior2nd',\n",
       " 'MasVnrType',\n",
       " 'ExterQual',\n",
       " 'ExterCond',\n",
       " 'Foundation',\n",
       " 'BsmtQual',\n",
       " 'BsmtCond',\n",
       " 'BsmtExposure',\n",
       " 'BsmtFinType1',\n",
       " 'BsmtFinType2',\n",
       " 'Heating',\n",
       " 'HeatingQC',\n",
       " 'CentralAir',\n",
       " 'Electrical',\n",
       " 'KitchenQual',\n",
       " 'Functional',\n",
       " 'PavedDrive',\n",
       " 'SaleType',\n",
       " 'SaleCondition']"
      ]
     },
     "execution_count": 19,
     "metadata": {},
     "output_type": "execute_result"
    }
   ],
   "source": [
    "cat_featured"
   ]
  },
  {
   "cell_type": "code",
   "execution_count": 20,
   "id": "b15e2d5b",
   "metadata": {
    "execution": {
     "iopub.execute_input": "2022-04-19T17:11:41.291600Z",
     "iopub.status.busy": "2022-04-19T17:11:41.291320Z",
     "iopub.status.idle": "2022-04-19T17:11:41.296161Z",
     "shell.execute_reply": "2022-04-19T17:11:41.295462Z"
    },
    "papermill": {
     "duration": 0.072472,
     "end_time": "2022-04-19T17:11:41.298244",
     "exception": false,
     "start_time": "2022-04-19T17:11:41.225772",
     "status": "completed"
    },
    "tags": []
   },
   "outputs": [],
   "source": [
    "Columns_Enc_OneHot = ['MSZoning' ,'LandContour' ,'LotConfig','LandSlope','RoofStyle','RoofMatl','Exterior1st','MasVnrType','Heating']\n",
    "Columns_Enc_Ordinal = ['Street','LotShape','Utilities','ExterCond','Foundation','BsmtQual','BsmtCond','BsmtExposure','BsmtFinType1','BsmtFinType2','HeatingQC','CentralAir','Electrical','KitchenQual','PavedDrive','SaleCondition','SaleType'] "
   ]
  },
  {
   "cell_type": "markdown",
   "id": "172d4f17",
   "metadata": {
    "papermill": {
     "duration": 0.044396,
     "end_time": "2022-04-19T17:11:41.387084",
     "exception": false,
     "start_time": "2022-04-19T17:11:41.342688",
     "status": "completed"
    },
    "tags": []
   },
   "source": [
    "Using LabelEncoder, we are going to convert non-numerical features to numerical type. LabelEncoder basically labels the classes from 0 to n. This process is necessary for models to learn from those features."
   ]
  },
  {
   "cell_type": "code",
   "execution_count": 21,
   "id": "1f4caf07",
   "metadata": {
    "execution": {
     "iopub.execute_input": "2022-04-19T17:11:41.476557Z",
     "iopub.status.busy": "2022-04-19T17:11:41.476245Z",
     "iopub.status.idle": "2022-04-19T17:11:41.514684Z",
     "shell.execute_reply": "2022-04-19T17:11:41.513804Z"
    },
    "papermill": {
     "duration": 0.085461,
     "end_time": "2022-04-19T17:11:41.516717",
     "exception": false,
     "start_time": "2022-04-19T17:11:41.431256",
     "status": "completed"
    },
    "tags": []
   },
   "outputs": [],
   "source": [
    "for feature in Columns_Enc_Ordinal:\n",
    "    df_data[feature] = LabelEncoder().fit_transform(df_data[feature])"
   ]
  },
  {
   "cell_type": "markdown",
   "id": "77e84933",
   "metadata": {
    "papermill": {
     "duration": 0.044308,
     "end_time": "2022-04-19T17:11:41.604718",
     "exception": false,
     "start_time": "2022-04-19T17:11:41.560410",
     "status": "completed"
    },
    "tags": []
   },
   "source": [
    "To finish with, we are going to one hot encoded non-ordinal features. "
   ]
  },
  {
   "cell_type": "code",
   "execution_count": 22,
   "id": "4360b49b",
   "metadata": {
    "execution": {
     "iopub.execute_input": "2022-04-19T17:11:41.693931Z",
     "iopub.status.busy": "2022-04-19T17:11:41.693652Z",
     "iopub.status.idle": "2022-04-19T17:11:41.733196Z",
     "shell.execute_reply": "2022-04-19T17:11:41.732256Z"
    },
    "papermill": {
     "duration": 0.086979,
     "end_time": "2022-04-19T17:11:41.735434",
     "exception": false,
     "start_time": "2022-04-19T17:11:41.648455",
     "status": "completed"
    },
    "tags": []
   },
   "outputs": [],
   "source": [
    "for feature in Columns_Enc_OneHot:\n",
    "    one_hot = pd.get_dummies(df_data[feature],prefix=feature)\n",
    "    df_data = pd.merge(left=df_data,right=one_hot,left_index=True,right_index=True)\n",
    "    "
   ]
  },
  {
   "cell_type": "code",
   "execution_count": 23,
   "id": "ff8a65bb",
   "metadata": {
    "execution": {
     "iopub.execute_input": "2022-04-19T17:11:41.866973Z",
     "iopub.status.busy": "2022-04-19T17:11:41.866178Z",
     "iopub.status.idle": "2022-04-19T17:11:41.874906Z",
     "shell.execute_reply": "2022-04-19T17:11:41.873848Z"
    },
    "papermill": {
     "duration": 0.077169,
     "end_time": "2022-04-19T17:11:41.877040",
     "exception": false,
     "start_time": "2022-04-19T17:11:41.799871",
     "status": "completed"
    },
    "tags": []
   },
   "outputs": [],
   "source": [
    "# Drop Columns_Enc_OneHot\n",
    "df_data.drop(Columns_Enc_OneHot,axis=1,inplace=True)"
   ]
  },
  {
   "cell_type": "code",
   "execution_count": 24,
   "id": "aeefa9c0",
   "metadata": {
    "execution": {
     "iopub.execute_input": "2022-04-19T17:11:41.977980Z",
     "iopub.status.busy": "2022-04-19T17:11:41.977663Z",
     "iopub.status.idle": "2022-04-19T17:11:41.983401Z",
     "shell.execute_reply": "2022-04-19T17:11:41.982786Z"
    },
    "papermill": {
     "duration": 0.056116,
     "end_time": "2022-04-19T17:11:41.985355",
     "exception": false,
     "start_time": "2022-04-19T17:11:41.929239",
     "status": "completed"
    },
    "tags": []
   },
   "outputs": [],
   "source": [
    "# drop some features that is redendent\n",
    "features_throw = ['Neighborhood','Condition1','Condition2','BldgType','HouseStyle','Exterior2nd','ExterQual','Functional']\n",
    "df_data.drop(features_throw, axis=1, inplace=True)"
   ]
  },
  {
   "cell_type": "code",
   "execution_count": 25,
   "id": "47d30a05",
   "metadata": {
    "execution": {
     "iopub.execute_input": "2022-04-19T17:11:42.123114Z",
     "iopub.status.busy": "2022-04-19T17:11:42.122609Z",
     "iopub.status.idle": "2022-04-19T17:11:42.127602Z",
     "shell.execute_reply": "2022-04-19T17:11:42.126718Z"
    },
    "papermill": {
     "duration": 0.078296,
     "end_time": "2022-04-19T17:11:42.129677",
     "exception": false,
     "start_time": "2022-04-19T17:11:42.051381",
     "status": "completed"
    },
    "tags": []
   },
   "outputs": [],
   "source": [
    "# Convert all datatype columns to int\n",
    "df_data = df_data.astype(int)"
   ]
  },
  {
   "cell_type": "code",
   "execution_count": 26,
   "id": "1e88b616",
   "metadata": {
    "execution": {
     "iopub.execute_input": "2022-04-19T17:11:42.227556Z",
     "iopub.status.busy": "2022-04-19T17:11:42.227277Z",
     "iopub.status.idle": "2022-04-19T17:11:42.245362Z",
     "shell.execute_reply": "2022-04-19T17:11:42.244226Z"
    },
    "papermill": {
     "duration": 0.070858,
     "end_time": "2022-04-19T17:11:42.247664",
     "exception": false,
     "start_time": "2022-04-19T17:11:42.176806",
     "status": "completed"
    },
    "tags": []
   },
   "outputs": [
    {
     "name": "stdout",
     "output_type": "stream",
     "text": [
      "<class 'pandas.core.frame.DataFrame'>\n",
      "RangeIndex: 2919 entries, 0 to 2918\n",
      "Data columns (total 108 columns):\n",
      " #    Column               Dtype\n",
      "---   ------               -----\n",
      " 0    Id                   int64\n",
      " 1    MSSubClass           int64\n",
      " 2    LotArea              int64\n",
      " 3    Street               int64\n",
      " 4    LotShape             int64\n",
      " 5    Utilities            int64\n",
      " 6    OverallQual          int64\n",
      " 7    OverallCond          int64\n",
      " 8    YearBuilt            int64\n",
      " 9    YearRemodAdd         int64\n",
      " 10   MasVnrArea           int64\n",
      " 11   ExterCond            int64\n",
      " 12   Foundation           int64\n",
      " 13   BsmtQual             int64\n",
      " 14   BsmtCond             int64\n",
      " 15   BsmtExposure         int64\n",
      " 16   BsmtFinType1         int64\n",
      " 17   BsmtFinSF1           int64\n",
      " 18   BsmtFinType2         int64\n",
      " 19   BsmtFinSF2           int64\n",
      " 20   BsmtUnfSF            int64\n",
      " 21   TotalBsmtSF          int64\n",
      " 22   HeatingQC            int64\n",
      " 23   CentralAir           int64\n",
      " 24   Electrical           int64\n",
      " 25   1stFlrSF             int64\n",
      " 26   2ndFlrSF             int64\n",
      " 27   LowQualFinSF         int64\n",
      " 28   GrLivArea            int64\n",
      " 29   BsmtFullBath         int64\n",
      " 30   BsmtHalfBath         int64\n",
      " 31   FullBath             int64\n",
      " 32   HalfBath             int64\n",
      " 33   BedroomAbvGr         int64\n",
      " 34   KitchenAbvGr         int64\n",
      " 35   KitchenQual          int64\n",
      " 36   TotRmsAbvGrd         int64\n",
      " 37   Fireplaces           int64\n",
      " 38   GarageCars           int64\n",
      " 39   GarageArea           int64\n",
      " 40   PavedDrive           int64\n",
      " 41   WoodDeckSF           int64\n",
      " 42   OpenPorchSF          int64\n",
      " 43   EnclosedPorch        int64\n",
      " 44   3SsnPorch            int64\n",
      " 45   ScreenPorch          int64\n",
      " 46   PoolArea             int64\n",
      " 47   MiscVal              int64\n",
      " 48   MoSold               int64\n",
      " 49   YrSold               int64\n",
      " 50   SaleType             int64\n",
      " 51   SaleCondition        int64\n",
      " 52   MSZoning_C (all)     int64\n",
      " 53   MSZoning_FV          int64\n",
      " 54   MSZoning_RH          int64\n",
      " 55   MSZoning_RL          int64\n",
      " 56   MSZoning_RM          int64\n",
      " 57   LandContour_Bnk      int64\n",
      " 58   LandContour_HLS      int64\n",
      " 59   LandContour_Low      int64\n",
      " 60   LandContour_Lvl      int64\n",
      " 61   LotConfig_Corner     int64\n",
      " 62   LotConfig_CulDSac    int64\n",
      " 63   LotConfig_FR2        int64\n",
      " 64   LotConfig_FR3        int64\n",
      " 65   LotConfig_Inside     int64\n",
      " 66   LandSlope_Gtl        int64\n",
      " 67   LandSlope_Mod        int64\n",
      " 68   LandSlope_Sev        int64\n",
      " 69   RoofStyle_Flat       int64\n",
      " 70   RoofStyle_Gable      int64\n",
      " 71   RoofStyle_Gambrel    int64\n",
      " 72   RoofStyle_Hip        int64\n",
      " 73   RoofStyle_Mansard    int64\n",
      " 74   RoofStyle_Shed       int64\n",
      " 75   RoofMatl_ClyTile     int64\n",
      " 76   RoofMatl_CompShg     int64\n",
      " 77   RoofMatl_Membran     int64\n",
      " 78   RoofMatl_Metal       int64\n",
      " 79   RoofMatl_Roll        int64\n",
      " 80   RoofMatl_Tar&Grv     int64\n",
      " 81   RoofMatl_WdShake     int64\n",
      " 82   RoofMatl_WdShngl     int64\n",
      " 83   Exterior1st_AsbShng  int64\n",
      " 84   Exterior1st_AsphShn  int64\n",
      " 85   Exterior1st_BrkComm  int64\n",
      " 86   Exterior1st_BrkFace  int64\n",
      " 87   Exterior1st_CBlock   int64\n",
      " 88   Exterior1st_CemntBd  int64\n",
      " 89   Exterior1st_HdBoard  int64\n",
      " 90   Exterior1st_ImStucc  int64\n",
      " 91   Exterior1st_MetalSd  int64\n",
      " 92   Exterior1st_Plywood  int64\n",
      " 93   Exterior1st_Stone    int64\n",
      " 94   Exterior1st_Stucco   int64\n",
      " 95   Exterior1st_VinylSd  int64\n",
      " 96   Exterior1st_Wd Sdng  int64\n",
      " 97   Exterior1st_WdShing  int64\n",
      " 98   MasVnrType_BrkCmn    int64\n",
      " 99   MasVnrType_BrkFace   int64\n",
      " 100  MasVnrType_None      int64\n",
      " 101  MasVnrType_Stone     int64\n",
      " 102  Heating_Floor        int64\n",
      " 103  Heating_GasA         int64\n",
      " 104  Heating_GasW         int64\n",
      " 105  Heating_Grav         int64\n",
      " 106  Heating_OthW         int64\n",
      " 107  Heating_Wall         int64\n",
      "dtypes: int64(108)\n",
      "memory usage: 2.4 MB\n"
     ]
    }
   ],
   "source": [
    "df_data.info(1)"
   ]
  },
  {
   "cell_type": "markdown",
   "id": "a81a521d",
   "metadata": {
    "papermill": {
     "duration": 0.045416,
     "end_time": "2022-04-19T17:11:42.343832",
     "exception": false,
     "start_time": "2022-04-19T17:11:42.298416",
     "status": "completed"
    },
    "tags": []
   },
   "source": [
    "<a id=\"1\"></a> <br>\n",
    "# 4. Modeling"
   ]
  },
  {
   "cell_type": "markdown",
   "id": "3add50f3",
   "metadata": {
    "papermill": {
     "duration": 0.043727,
     "end_time": "2022-04-19T17:11:42.432492",
     "exception": false,
     "start_time": "2022-04-19T17:11:42.388765",
     "status": "completed"
    },
    "tags": []
   },
   "source": [
    "<span style=\"font-family:cursive; color:black;font-size:16px\">For the modeling part we will compare 3 known Linear algorithms, and proceed to evaluate their average accuracy by a stratified kfold cross validation procedure:</span>"
   ]
  },
  {
   "cell_type": "markdown",
   "id": "5bb53a68",
   "metadata": {
    "papermill": {
     "duration": 0.045188,
     "end_time": "2022-04-19T17:11:42.522457",
     "exception": false,
     "start_time": "2022-04-19T17:11:42.477269",
     "status": "completed"
    },
    "tags": []
   },
   "source": [
    "1: LinearRegression<br>\n",
    "2: Ridge<br>\n",
    "3: Lasso<br>"
   ]
  },
  {
   "cell_type": "code",
   "execution_count": 27,
   "id": "71884fb0",
   "metadata": {
    "execution": {
     "iopub.execute_input": "2022-04-19T17:11:42.615699Z",
     "iopub.status.busy": "2022-04-19T17:11:42.615236Z",
     "iopub.status.idle": "2022-04-19T17:11:42.619511Z",
     "shell.execute_reply": "2022-04-19T17:11:42.619119Z"
    },
    "papermill": {
     "duration": 0.054324,
     "end_time": "2022-04-19T17:11:42.621585",
     "exception": false,
     "start_time": "2022-04-19T17:11:42.567261",
     "status": "completed"
    },
    "tags": []
   },
   "outputs": [],
   "source": [
    "# ٍExtract Train and Test Data from df_data\n",
    "df_train = df_data.iloc[:1460,:]\n",
    "df_test = df_data.iloc[1460:,:]"
   ]
  },
  {
   "cell_type": "code",
   "execution_count": 28,
   "id": "7948d656",
   "metadata": {
    "execution": {
     "iopub.execute_input": "2022-04-19T17:11:42.754751Z",
     "iopub.status.busy": "2022-04-19T17:11:42.754391Z",
     "iopub.status.idle": "2022-04-19T17:11:42.779855Z",
     "shell.execute_reply": "2022-04-19T17:11:42.779330Z"
    },
    "papermill": {
     "duration": 0.094758,
     "end_time": "2022-04-19T17:11:42.781832",
     "exception": false,
     "start_time": "2022-04-19T17:11:42.687074",
     "status": "completed"
    },
    "tags": []
   },
   "outputs": [],
   "source": [
    "# Concat SalePrice column to df_train\n",
    "df_train_s = pd.read_csv('/kaggle/input/house-prices-advanced-regression-techniques/train.csv')\n",
    "df_train['SalePrice'] = df_train_s['SalePrice']"
   ]
  },
  {
   "cell_type": "code",
   "execution_count": 29,
   "id": "6b6aa1e0",
   "metadata": {
    "execution": {
     "iopub.execute_input": "2022-04-19T17:11:42.873346Z",
     "iopub.status.busy": "2022-04-19T17:11:42.873118Z",
     "iopub.status.idle": "2022-04-19T17:11:42.879336Z",
     "shell.execute_reply": "2022-04-19T17:11:42.878654Z"
    },
    "papermill": {
     "duration": 0.054268,
     "end_time": "2022-04-19T17:11:42.881303",
     "exception": false,
     "start_time": "2022-04-19T17:11:42.827035",
     "status": "completed"
    },
    "tags": []
   },
   "outputs": [],
   "source": [
    "X = df_train.drop('SalePrice',axis=1)\n",
    "y = df_train['SalePrice']"
   ]
  },
  {
   "cell_type": "code",
   "execution_count": 30,
   "id": "f1c217db",
   "metadata": {
    "execution": {
     "iopub.execute_input": "2022-04-19T17:11:42.972431Z",
     "iopub.status.busy": "2022-04-19T17:11:42.971879Z",
     "iopub.status.idle": "2022-04-19T17:11:42.978032Z",
     "shell.execute_reply": "2022-04-19T17:11:42.977293Z"
    },
    "papermill": {
     "duration": 0.054252,
     "end_time": "2022-04-19T17:11:42.980146",
     "exception": false,
     "start_time": "2022-04-19T17:11:42.925894",
     "status": "completed"
    },
    "tags": []
   },
   "outputs": [],
   "source": [
    "# SPlitting train dataset\n",
    "X_train,X_test,y_train,y_test = train_test_split(X,y,test_size = 0.2,random_state = 42)"
   ]
  },
  {
   "cell_type": "code",
   "execution_count": 31,
   "id": "18db20ee",
   "metadata": {
    "execution": {
     "iopub.execute_input": "2022-04-19T17:11:43.070571Z",
     "iopub.status.busy": "2022-04-19T17:11:43.070093Z",
     "iopub.status.idle": "2022-04-19T17:11:43.075218Z",
     "shell.execute_reply": "2022-04-19T17:11:43.074161Z"
    },
    "papermill": {
     "duration": 0.053743,
     "end_time": "2022-04-19T17:11:43.077843",
     "exception": false,
     "start_time": "2022-04-19T17:11:43.024100",
     "status": "completed"
    },
    "tags": []
   },
   "outputs": [],
   "source": [
    "# Regression Algorithms\n",
    "pipeline_LinearRegression = Pipeline([('LinearRegression_Regression',LinearRegression())])\n",
    "pipeline_Ridge = Pipeline([('Ridge_Regression',Ridge(alpha=0.1))])\n",
    "pipeline_Lasso = Pipeline([('Lasso_Regression',Lasso(alpha=0.01))])\n",
    "\n",
    "\n",
    "pipelines = [pipeline_LinearRegression,pipeline_Ridge,pipeline_Lasso]\n",
    "pipe_dict = {0:'LinearRegression',1:'Ridge',2:'Lasso'}"
   ]
  },
  {
   "cell_type": "code",
   "execution_count": 32,
   "id": "af0f49a8",
   "metadata": {
    "execution": {
     "iopub.execute_input": "2022-04-19T17:11:43.210314Z",
     "iopub.status.busy": "2022-04-19T17:11:43.210034Z",
     "iopub.status.idle": "2022-04-19T17:11:43.429432Z",
     "shell.execute_reply": "2022-04-19T17:11:43.428774Z"
    },
    "papermill": {
     "duration": 0.288405,
     "end_time": "2022-04-19T17:11:43.431959",
     "exception": false,
     "start_time": "2022-04-19T17:11:43.143554",
     "status": "completed"
    },
    "tags": []
   },
   "outputs": [],
   "source": [
    "# Fit Model\n",
    "for pipe in pipelines:\n",
    "    pipe.fit(X_train,y_train)"
   ]
  },
  {
   "cell_type": "code",
   "execution_count": 33,
   "id": "579dc8bc",
   "metadata": {
    "execution": {
     "iopub.execute_input": "2022-04-19T17:11:43.588716Z",
     "iopub.status.busy": "2022-04-19T17:11:43.588041Z",
     "iopub.status.idle": "2022-04-19T17:11:43.607095Z",
     "shell.execute_reply": "2022-04-19T17:11:43.606233Z"
    },
    "papermill": {
     "duration": 0.095325,
     "end_time": "2022-04-19T17:11:43.609932",
     "exception": false,
     "start_time": "2022-04-19T17:11:43.514607",
     "status": "completed"
    },
    "tags": []
   },
   "outputs": [
    {
     "name": "stdout",
     "output_type": "stream",
     "text": [
      "LinearRegression Test# Accuracy : 0.8634546735078611\n",
      "\n",
      "Ridge Test# Accuracy : 0.8630114101439015\n",
      "\n",
      "Lasso Test# Accuracy : 0.8681626172933117\n",
      "\n"
     ]
    }
   ],
   "source": [
    "# Calculate Test Accuracy\n",
    "for i,model in enumerate(pipelines):\n",
    "    print(\"{} Test# Accuracy : {}\\n\".format(pipe_dict[i],model.score(X_test,y_test)))"
   ]
  },
  {
   "cell_type": "code",
   "execution_count": 34,
   "id": "869bad89",
   "metadata": {
    "execution": {
     "iopub.execute_input": "2022-04-19T17:11:43.764200Z",
     "iopub.status.busy": "2022-04-19T17:11:43.763925Z",
     "iopub.status.idle": "2022-04-19T17:11:43.772730Z",
     "shell.execute_reply": "2022-04-19T17:11:43.771817Z"
    },
    "papermill": {
     "duration": 0.083887,
     "end_time": "2022-04-19T17:11:43.774955",
     "exception": false,
     "start_time": "2022-04-19T17:11:43.691068",
     "status": "completed"
    },
    "tags": []
   },
   "outputs": [],
   "source": [
    "y_pred_test_Lasso = pipeline_Lasso.predict(df_test)"
   ]
  },
  {
   "cell_type": "code",
   "execution_count": 35,
   "id": "5e3a9ae7",
   "metadata": {
    "execution": {
     "iopub.execute_input": "2022-04-19T17:11:43.933755Z",
     "iopub.status.busy": "2022-04-19T17:11:43.933471Z",
     "iopub.status.idle": "2022-04-19T17:11:43.938492Z",
     "shell.execute_reply": "2022-04-19T17:11:43.937921Z"
    },
    "papermill": {
     "duration": 0.082491,
     "end_time": "2022-04-19T17:11:43.941174",
     "exception": false,
     "start_time": "2022-04-19T17:11:43.858683",
     "status": "completed"
    },
    "tags": []
   },
   "outputs": [
    {
     "data": {
      "text/plain": [
       "array([124571.66356245, 139909.13517878, 178996.43721489, ...,\n",
       "       163385.62678725, 109749.06547982, 237696.71028432])"
      ]
     },
     "execution_count": 35,
     "metadata": {},
     "output_type": "execute_result"
    }
   ],
   "source": [
    "y_pred_test_Lasso"
   ]
  },
  {
   "cell_type": "code",
   "execution_count": 36,
   "id": "96dbae78",
   "metadata": {
    "execution": {
     "iopub.execute_input": "2022-04-19T17:11:44.075061Z",
     "iopub.status.busy": "2022-04-19T17:11:44.074613Z",
     "iopub.status.idle": "2022-04-19T17:11:44.087004Z",
     "shell.execute_reply": "2022-04-19T17:11:44.086489Z"
    },
    "papermill": {
     "duration": 0.082434,
     "end_time": "2022-04-19T17:11:44.089530",
     "exception": false,
     "start_time": "2022-04-19T17:11:44.007096",
     "status": "completed"
    },
    "tags": []
   },
   "outputs": [],
   "source": [
    "df_sample_submission = pd.read_csv('/kaggle/input/house-prices-advanced-regression-techniques/sample_submission.csv')"
   ]
  },
  {
   "cell_type": "code",
   "execution_count": 37,
   "id": "d6d0158b",
   "metadata": {
    "execution": {
     "iopub.execute_input": "2022-04-19T17:11:44.228581Z",
     "iopub.status.busy": "2022-04-19T17:11:44.228101Z",
     "iopub.status.idle": "2022-04-19T17:11:44.241179Z",
     "shell.execute_reply": "2022-04-19T17:11:44.240148Z"
    },
    "papermill": {
     "duration": 0.085861,
     "end_time": "2022-04-19T17:11:44.243481",
     "exception": false,
     "start_time": "2022-04-19T17:11:44.157620",
     "status": "completed"
    },
    "tags": []
   },
   "outputs": [],
   "source": [
    "# Sample Submission\n",
    "output = pd.DataFrame({'Id': df_sample_submission.Id, 'SalePrice': y_pred_test_Lasso})\n",
    "\n",
    "output.to_csv(\"submission.csv\", index = False)"
   ]
  }
 ],
 "metadata": {
  "kernelspec": {
   "display_name": "Python 3",
   "language": "python",
   "name": "python3"
  },
  "language_info": {
   "codemirror_mode": {
    "name": "ipython",
    "version": 3
   },
   "file_extension": ".py",
   "mimetype": "text/x-python",
   "name": "python",
   "nbconvert_exporter": "python",
   "pygments_lexer": "ipython3",
   "version": "3.7.12"
  },
  "papermill": {
   "default_parameters": {},
   "duration": 25.081201,
   "end_time": "2022-04-19T17:11:45.534705",
   "environment_variables": {},
   "exception": null,
   "input_path": "__notebook__.ipynb",
   "output_path": "__notebook__.ipynb",
   "parameters": {},
   "start_time": "2022-04-19T17:11:20.453504",
   "version": "2.3.4"
  }
 },
 "nbformat": 4,
 "nbformat_minor": 5
}
